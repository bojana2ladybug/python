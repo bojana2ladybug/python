{
 "cells": [
  {
   "cell_type": "code",
   "execution_count": 1,
   "id": "3ed09560-9597-48ab-9ed8-443f772aaca2",
   "metadata": {},
   "outputs": [],
   "source": [
    "#vezbanje matematickih operacija"
   ]
  },
  {
   "cell_type": "code",
   "execution_count": 2,
   "id": "91e2cabd-2809-4b5a-a3d6-311d8eec7c88",
   "metadata": {},
   "outputs": [
    {
     "data": {
      "text/plain": [
       "56.666666666666664"
      ]
     },
     "execution_count": 2,
     "metadata": {},
     "output_type": "execute_result"
    }
   ],
   "source": [
    "12+2*(1+66)/3"
   ]
  },
  {
   "cell_type": "code",
   "execution_count": 3,
   "id": "8e62a8fc-3910-45e0-8341-5e1cef147847",
   "metadata": {},
   "outputs": [],
   "source": [
    "x=56.666666666666664\n",
    "y=x//1"
   ]
  },
  {
   "cell_type": "code",
   "execution_count": 4,
   "id": "0c5295aa-2fba-4a97-b4af-29a3f2d9a8d4",
   "metadata": {},
   "outputs": [
    {
     "name": "stdout",
     "output_type": "stream",
     "text": [
      "56.0\n"
     ]
    }
   ],
   "source": [
    "print(y)"
   ]
  },
  {
   "cell_type": "code",
   "execution_count": 5,
   "id": "30b48706-4b46-4983-8b6c-fef548949df7",
   "metadata": {},
   "outputs": [
    {
     "data": {
      "text/plain": [
       "56.666666666666664"
      ]
     },
     "execution_count": 5,
     "metadata": {},
     "output_type": "execute_result"
    }
   ],
   "source": [
    "x"
   ]
  },
  {
   "cell_type": "code",
   "execution_count": 6,
   "id": "89f86041-cc6f-4791-b26c-9d06504da874",
   "metadata": {},
   "outputs": [
    {
     "data": {
      "text/plain": [
       "56.0"
      ]
     },
     "execution_count": 6,
     "metadata": {},
     "output_type": "execute_result"
    }
   ],
   "source": [
    "y"
   ]
  },
  {
   "cell_type": "code",
   "execution_count": 7,
   "id": "d8e8e59c-4cb9-4f31-8866-cea791d5817b",
   "metadata": {},
   "outputs": [
    {
     "data": {
      "text/plain": [
       "float"
      ]
     },
     "execution_count": 7,
     "metadata": {},
     "output_type": "execute_result"
    }
   ],
   "source": [
    "type(y)"
   ]
  },
  {
   "cell_type": "code",
   "execution_count": 8,
   "id": "44fc6686-20e5-443f-9926-79bedde8088a",
   "metadata": {},
   "outputs": [
    {
     "data": {
      "text/plain": [
       "float"
      ]
     },
     "execution_count": 8,
     "metadata": {},
     "output_type": "execute_result"
    }
   ],
   "source": [
    "type(x)\n"
   ]
  },
  {
   "cell_type": "code",
   "execution_count": 12,
   "id": "eef1420e-9579-42c0-b52a-376b0848b395",
   "metadata": {},
   "outputs": [
    {
     "data": {
      "text/plain": [
       "56.0"
      ]
     },
     "execution_count": 12,
     "metadata": {},
     "output_type": "execute_result"
    }
   ],
   "source": [
    "y"
   ]
  },
  {
   "cell_type": "code",
   "execution_count": 13,
   "id": "444d1c0e-ef02-4364-8c9e-43219f9e0773",
   "metadata": {},
   "outputs": [],
   "source": [
    "name='Bojana Markovic'"
   ]
  },
  {
   "cell_type": "code",
   "execution_count": 14,
   "id": "6d92adcd-e93c-4e3e-a7cd-ba4922cf030e",
   "metadata": {},
   "outputs": [
    {
     "data": {
      "text/plain": [
       "'Boja'"
      ]
     },
     "execution_count": 14,
     "metadata": {},
     "output_type": "execute_result"
    }
   ],
   "source": [
    "name[0:4]"
   ]
  },
  {
   "cell_type": "code",
   "execution_count": 15,
   "id": "46fc2e8f-9875-4083-b907-a6ab30bb8aa6",
   "metadata": {},
   "outputs": [
    {
     "data": {
      "text/plain": [
       "'ana'"
      ]
     },
     "execution_count": 15,
     "metadata": {},
     "output_type": "execute_result"
    }
   ],
   "source": [
    "name[3:6]"
   ]
  },
  {
   "cell_type": "code",
   "execution_count": 29,
   "id": "ce9a07c4-e39a-4bf3-b832-e2f5c5c4f3f1",
   "metadata": {},
   "outputs": [
    {
     "name": "stdout",
     "output_type": "stream",
     "text": [
      "Bojana Markovic \n",
      " kida\n"
     ]
    }
   ],
   "source": [
    "print('Bojana Markovic \\n kida')"
   ]
  },
  {
   "cell_type": "code",
   "execution_count": 30,
   "id": "d3f5c7c7-20f2-4409-9dfc-753387f446c5",
   "metadata": {},
   "outputs": [
    {
     "name": "stdout",
     "output_type": "stream",
     "text": [
      "Bojana Markovic \t bog otac\n"
     ]
    }
   ],
   "source": [
    "print('Bojana Markovic \\t bog otac')"
   ]
  },
  {
   "cell_type": "code",
   "execution_count": 32,
   "id": "f78b8117-98b3-4f7e-9879-0f9aa5cc8d6c",
   "metadata": {},
   "outputs": [
    {
     "name": "stdout",
     "output_type": "stream",
     "text": [
      "Bojana Markovic \\ 27 god\n"
     ]
    }
   ],
   "source": [
    "print(r'Bojana Markovic \\ 27 god')"
   ]
  },
  {
   "cell_type": "code",
   "execution_count": 33,
   "id": "b52c46ba-1fc1-4305-a682-8739212bce51",
   "metadata": {},
   "outputs": [
    {
     "data": {
      "text/plain": [
       "'BOJANA MARKOVIC 123'"
      ]
     },
     "execution_count": 33,
     "metadata": {},
     "output_type": "execute_result"
    }
   ],
   "source": [
    "A='Bojana Markovic 123'\n",
    "B=A.upper()\n",
    "B"
   ]
  },
  {
   "cell_type": "code",
   "execution_count": 34,
   "id": "5b5bf513-3311-4590-a51f-89d000626f87",
   "metadata": {},
   "outputs": [
    {
     "data": {
      "text/plain": [
       "'Borian Markovic 123'"
      ]
     },
     "execution_count": 34,
     "metadata": {},
     "output_type": "execute_result"
    }
   ],
   "source": [
    "B=A.replace('Bojana','Borian')\n",
    "B"
   ]
  },
  {
   "cell_type": "code",
   "execution_count": 35,
   "id": "5ce7680b-2764-4d5e-9578-d5ae8f53a29a",
   "metadata": {},
   "outputs": [],
   "source": [
    "B=B.upper()"
   ]
  },
  {
   "cell_type": "code",
   "execution_count": 36,
   "id": "f40d3e7d-2c6d-4e57-8eeb-5a730d7b8aaa",
   "metadata": {},
   "outputs": [
    {
     "data": {
      "text/plain": [
       "'BORIAN MARKOVIC 123'"
      ]
     },
     "execution_count": 36,
     "metadata": {},
     "output_type": "execute_result"
    }
   ],
   "source": [
    "B"
   ]
  },
  {
   "cell_type": "code",
   "execution_count": null,
   "id": "d86e736a-4772-48ff-a560-54152cb5bdd7",
   "metadata": {},
   "outputs": [],
   "source": []
  }
 ],
 "metadata": {
  "kernelspec": {
   "display_name": "Python [conda env:base] *",
   "language": "python",
   "name": "conda-base-py"
  },
  "language_info": {
   "codemirror_mode": {
    "name": "ipython",
    "version": 3
   },
   "file_extension": ".py",
   "mimetype": "text/x-python",
   "name": "python",
   "nbconvert_exporter": "python",
   "pygments_lexer": "ipython3",
   "version": "3.12.7"
  }
 },
 "nbformat": 4,
 "nbformat_minor": 5
}
