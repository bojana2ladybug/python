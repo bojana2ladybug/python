{
 "cells": [
  {
   "cell_type": "code",
   "execution_count": 1,
   "id": "8f17e178-7ea7-4708-9d5c-cfca927f7833",
   "metadata": {},
   "outputs": [
    {
     "name": "stdout",
     "output_type": "stream",
     "text": [
      "Ja se zovem Bojana Markovic, imam 27 godina\n"
     ]
    }
   ],
   "source": [
    "name= 'Bojana'\n",
    "surname= 'Markovic'\n",
    "age= 27\n",
    "print(f'Ja se zovem {name} {surname}, imam {age} godina')"
   ]
  },
  {
   "cell_type": "code",
   "execution_count": 3,
   "id": "0ef13158-994d-432e-a8aa-7051d5b01a8a",
   "metadata": {},
   "outputs": [
    {
     "name": "stdout",
     "output_type": "stream",
     "text": [
      "Ja se zovem Bojana Markovic, imam 27 godina\n"
     ]
    }
   ],
   "source": [
    "print('Ja se zovem {} {}, imam {} godina'.format(name, surname, age))"
   ]
  },
  {
   "cell_type": "code",
   "execution_count": 8,
   "id": "4e64ccf8-0c9c-4fd4-b6ed-111bc4ca967d",
   "metadata": {},
   "outputs": [
    {
     "name": "stdout",
     "output_type": "stream",
     "text": [
      "Ja sam Bojana, imam 27 godina, moj grad je Beograd. Prezivam se Markovic. U parku sam videla 3 crne bube\n"
     ]
    }
   ],
   "source": [
    "boja= 'crne'\n",
    "broj= 3\n",
    "zivotinja= 'bube'\n",
    "grad= 'Beograd'\n",
    "print(f'Ja sam {name}, imam {age} godina, moj grad je {grad}. Prezivam se {surname}. U parku sam videla {broj} {boja} {zivotinja}')\n"
   ]
  },
  {
   "cell_type": "code",
   "execution_count": 9,
   "id": "97a55cf3-c09d-47c4-80a1-fb7faa75f381",
   "metadata": {},
   "outputs": [
    {
     "name": "stdout",
     "output_type": "stream",
     "text": [
      "Ja sam Bojana, imam 27, moj grad je Beograd. Prezivam se Markovic\n"
     ]
    }
   ],
   "source": [
    "print('Ja sam {}, imam {}, moj grad je {}. Prezivam se {}'.format(name, age, grad, surname))"
   ]
  },
  {
   "cell_type": "code",
   "execution_count": 11,
   "id": "1ededa3b-caee-4ca8-9034-f009c0b4f129",
   "metadata": {},
   "outputs": [
    {
     "name": "stdout",
     "output_type": "stream",
     "text": [
      "Ja sam Bojana, imam 27 godina\n"
     ]
    }
   ],
   "source": [
    "print('Ja sam %s, imam %d godina' %(name, age))"
   ]
  },
  {
   "cell_type": "code",
   "execution_count": 13,
   "id": "351f285f-b00f-49a3-8ecf-ff64271efff6",
   "metadata": {},
   "outputs": [
    {
     "name": "stdout",
     "output_type": "stream",
     "text": [
      "Beograd ima raznolike bube. Ja sam ih videla 3.\n"
     ]
    }
   ],
   "source": [
    "print('%s ima raznolike %s. Ja sam ih videla %d.' %(grad, zivotinja, broj))"
   ]
  },
  {
   "cell_type": "code",
   "execution_count": 14,
   "id": "101a158f-2b82-4695-ab99-204576fdc787",
   "metadata": {},
   "outputs": [
    {
     "name": "stdout",
     "output_type": "stream",
     "text": [
      "Ja sam Bojana, imam 27 godina.\n"
     ]
    }
   ],
   "source": [
    "x=20\n",
    "y=7\n",
    "print(f'Ja sam {name}, imam {x+y} godina.')"
   ]
  },
  {
   "cell_type": "code",
   "execution_count": null,
   "id": "a81ad6a7-4630-48d8-b282-853f2ac8c52b",
   "metadata": {},
   "outputs": [],
   "source": []
  }
 ],
 "metadata": {
  "kernelspec": {
   "display_name": "Python [conda env:base] *",
   "language": "python",
   "name": "conda-base-py"
  },
  "language_info": {
   "codemirror_mode": {
    "name": "ipython",
    "version": 3
   },
   "file_extension": ".py",
   "mimetype": "text/x-python",
   "name": "python",
   "nbconvert_exporter": "python",
   "pygments_lexer": "ipython3",
   "version": "3.12.7"
  }
 },
 "nbformat": 4,
 "nbformat_minor": 5
}
