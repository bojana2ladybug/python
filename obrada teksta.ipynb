{
 "cells": [
  {
   "cell_type": "code",
   "execution_count": 2,
   "id": "fb9ef91d-eac8-4f98-99b2-7e5d0e469d99",
   "metadata": {},
   "outputs": [],
   "source": [
    "givenstring='Lorem ipsum dolor! diam amet, consetetur Lorem magna. sed diam nonumy eirmod tempor. diam et labore? et diam magna. et diam amet.'\n",
    "\n",
    "class TextAnalyzer(object):\n",
    "    def __init__(self,text):\n",
    "        formatedtext=text.replace(',','').replace('.','').replace('!','').replace('?','')\n",
    "\n",
    "        formatedtext=formatedtext.lower()\n",
    "\n",
    "        self.formatedtext=formatedtext\n",
    "\n",
    "    def freqAll(self):\n",
    "        wordlist=self.formatedtext.split(' ')\n",
    "\n",
    "        freqMap= {}\n",
    "        for word in set(wordlist):\n",
    "            freqMap[word]= wordlist.count(word)\n",
    "\n",
    "        return(freqMap)\n",
    "\n",
    "    def freqOf(self,word):\n",
    "        freqDict=self.freqAll()\n",
    "        if word in freqDict:\n",
    "            return freqDict[word]\n",
    "        else: \n",
    "            return 0\n",
    "        \n",
    "    \n"
   ]
  },
  {
   "cell_type": "code",
   "execution_count": 3,
   "id": "dc461f43-90bf-44d3-9384-1ffe2122b660",
   "metadata": {},
   "outputs": [],
   "source": [
    "analyzed=TextAnalyzer(givenstring)"
   ]
  },
  {
   "cell_type": "code",
   "execution_count": 4,
   "id": "cdfe59f1-59d2-4289-a67c-0efae907cf34",
   "metadata": {},
   "outputs": [
    {
     "name": "stdout",
     "output_type": "stream",
     "text": [
      "Formatted text: lorem ipsum dolor diam amet consetetur lorem magna sed diam nonumy eirmod tempor diam et labore et diam magna et diam amet\n"
     ]
    }
   ],
   "source": [
    "print('Formatted text:',analyzed.formatedtext)"
   ]
  },
  {
   "cell_type": "code",
   "execution_count": 5,
   "id": "d3143add-e23e-4e0e-991d-2981f28ac624",
   "metadata": {},
   "outputs": [
    {
     "name": "stdout",
     "output_type": "stream",
     "text": [
      "{'dolor': 1, 'eirmod': 1, 'nonumy': 1, 'labore': 1, 'magna': 2, 'tempor': 1, 'consetetur': 1, 'lorem': 2, 'sed': 1, 'diam': 5, 'et': 3, 'ipsum': 1, 'amet': 2}\n"
     ]
    }
   ],
   "source": [
    "freqMap=analyzed.freqAll()\n",
    "print(freqMap)"
   ]
  },
  {
   "cell_type": "code",
   "execution_count": 6,
   "id": "3a3726ad-a9b9-4503-a8c4-c2c9360183d4",
   "metadata": {},
   "outputs": [
    {
     "name": "stdout",
     "output_type": "stream",
     "text": [
      "The word lorem appears 2 times\n"
     ]
    }
   ],
   "source": [
    "word='lorem'\n",
    "frequency=analyzed.freqOf(word)\n",
    "print('The word',word,'appears',frequency,'times')"
   ]
  },
  {
   "cell_type": "code",
   "execution_count": null,
   "id": "e9a91432-ba73-487d-a0a6-801b7a76a4c1",
   "metadata": {},
   "outputs": [],
   "source": []
  }
 ],
 "metadata": {
  "kernelspec": {
   "display_name": "Python [conda env:base] *",
   "language": "python",
   "name": "conda-base-py"
  },
  "language_info": {
   "codemirror_mode": {
    "name": "ipython",
    "version": 3
   },
   "file_extension": ".py",
   "mimetype": "text/x-python",
   "name": "python",
   "nbconvert_exporter": "python",
   "pygments_lexer": "ipython3",
   "version": "3.12.7"
  }
 },
 "nbformat": 4,
 "nbformat_minor": 5
}
