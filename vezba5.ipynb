{
 "cells": [
  {
   "cell_type": "code",
   "execution_count": 1,
   "id": "1bd27096-7036-4471-8b92-2eee4528774b",
   "metadata": {},
   "outputs": [
    {
     "data": {
      "text/plain": [
       "['The BodyGuard', 7.0, 1992]"
      ]
     },
     "execution_count": 1,
     "metadata": {},
     "output_type": "execute_result"
    }
   ],
   "source": [
    "L=  [\"The BodyGuard\", 7.0, 1992]\n",
    "L"
   ]
  },
  {
   "cell_type": "code",
   "execution_count": 3,
   "id": "22c822c3-4ff7-4084-8a4d-dbb93c47d126",
   "metadata": {},
   "outputs": [
    {
     "name": "stdout",
     "output_type": "stream",
     "text": [
      "the same element using positive and negative indexing: \n",
      " Positive: The BodyGuard \n",
      " Negative: The BodyGuard\n"
     ]
    }
   ],
   "source": [
    "print('the same element using positive and negative indexing: \\n Positive:', L[0], '\\n Negative:', L[-3])"
   ]
  },
  {
   "cell_type": "code",
   "execution_count": 4,
   "id": "7a680345-4519-4b57-9f04-aa9760963404",
   "metadata": {},
   "outputs": [
    {
     "name": "stdout",
     "output_type": "stream",
     "text": [
      "isti element, samo drugacija indeksacija: \n",
      " Pozitivna: 7.0 \n",
      " Negativna: 7.0\n"
     ]
    }
   ],
   "source": [
    "print('isti element, samo drugacija indeksacija: \\n Pozitivna:', L[1], '\\n Negativna:', L[-2])"
   ]
  },
  {
   "cell_type": "code",
   "execution_count": 5,
   "id": "109189f0-81d2-45ef-a011-9f8b8d94882d",
   "metadata": {},
   "outputs": [
    {
     "data": {
      "text/plain": [
       "['The BodyGuard', 7.0, 1992, ('A', 2), [1, 2]]"
      ]
     },
     "execution_count": 5,
     "metadata": {},
     "output_type": "execute_result"
    }
   ],
   "source": [
    "['The BodyGuard', 7.0, 1992, ('A',2),[1,2]]"
   ]
  },
  {
   "cell_type": "code",
   "execution_count": 8,
   "id": "a6884897-e7c2-4d81-8fe6-dea895887cb6",
   "metadata": {},
   "outputs": [
    {
     "data": {
      "text/plain": [
       "['BG', 1]"
      ]
     },
     "execution_count": 8,
     "metadata": {},
     "output_type": "execute_result"
    }
   ],
   "source": [
    "L=['The BodyGuard', 7.0, 1992, 'BG', 1]\n",
    "L[3:5]\n"
   ]
  },
  {
   "cell_type": "code",
   "execution_count": 9,
   "id": "02b57f96-b4a3-4a86-aa72-b9b746d5a8a3",
   "metadata": {},
   "outputs": [],
   "source": [
    "L=['The BodyGuard', 7.0]\n",
    "L.extend(['pop',10])"
   ]
  },
  {
   "cell_type": "code",
   "execution_count": 10,
   "id": "7cdf3bff-166f-48d2-9de6-99a0e9763bad",
   "metadata": {},
   "outputs": [
    {
     "data": {
      "text/plain": [
       "['The BodyGuard', 7.0, 'pop', 10]"
      ]
     },
     "execution_count": 10,
     "metadata": {},
     "output_type": "execute_result"
    }
   ],
   "source": [
    "L"
   ]
  },
  {
   "cell_type": "code",
   "execution_count": 11,
   "id": "ecaa1c5b-16dd-4e81-a477-c9d091cd701b",
   "metadata": {},
   "outputs": [
    {
     "data": {
      "text/plain": [
       "['The BodyGuard', 7.0, ['pop', 10]]"
      ]
     },
     "execution_count": 11,
     "metadata": {},
     "output_type": "execute_result"
    }
   ],
   "source": [
    "L=['The BodyGuard', 7.0]\n",
    "L.append(['pop',10])\n",
    "L"
   ]
  },
  {
   "cell_type": "code",
   "execution_count": 12,
   "id": "43a56e8e-4fdb-4998-a44b-28204736f2b6",
   "metadata": {},
   "outputs": [
    {
     "name": "stdout",
     "output_type": "stream",
     "text": [
      "Before change: \n",
      " ['disco', 1, 2]\n",
      "After change: \n",
      " ['disko', 1, 2]\n"
     ]
    }
   ],
   "source": [
    "A=['disco', 1, 2]\n",
    "print('Before change: \\n', A)\n",
    "A[0]='disko'\n",
    "print('After change: \\n', A)"
   ]
  },
  {
   "cell_type": "code",
   "execution_count": 13,
   "id": "8c64736f-92a6-4b98-8eff-8978fad55120",
   "metadata": {},
   "outputs": [
    {
     "name": "stdout",
     "output_type": "stream",
     "text": [
      "Before change: \n",
      " ['disko', 1, 2]\n",
      "after change: \n",
      " [1, 2]\n"
     ]
    }
   ],
   "source": [
    "print('Before change: \\n', A)\n",
    "del(A[0])\n",
    "print('after change: \\n', A)"
   ]
  },
  {
   "cell_type": "code",
   "execution_count": 15,
   "id": "99110e50-73aa-43bd-9b75-070c635e657e",
   "metadata": {},
   "outputs": [
    {
     "data": {
      "text/plain": [
       "['hard', 'rock']"
      ]
     },
     "execution_count": 15,
     "metadata": {},
     "output_type": "execute_result"
    }
   ],
   "source": [
    "'hard rock'.split()"
   ]
  },
  {
   "cell_type": "code",
   "execution_count": 17,
   "id": "f74e162e-08e5-49b9-9ad0-998b86779bb4",
   "metadata": {},
   "outputs": [
    {
     "data": {
      "text/plain": [
       "['A', 'B', 'C', 'D']"
      ]
     },
     "execution_count": 17,
     "metadata": {},
     "output_type": "execute_result"
    }
   ],
   "source": [
    "'A,B,C,D'.split(',')"
   ]
  },
  {
   "cell_type": "code",
   "execution_count": 18,
   "id": "2f800d66-9a58-4bb1-8e74-e5e14610a5d8",
   "metadata": {},
   "outputs": [
    {
     "name": "stdout",
     "output_type": "stream",
     "text": [
      "Ovo je nasa lista: \n",
      " ['hard rock', 1, 2, 3]\n",
      "Ovo je klon nase liste: \n",
      " ['hard rock', 1, 2, 3]\n"
     ]
    }
   ],
   "source": [
    "A=['hard rock', 1, 2, 3]\n",
    "B=A\n",
    "print('Ovo je nasa lista: \\n',A)\n",
    "print('Ovo je klon nase liste: \\n', B)"
   ]
  },
  {
   "cell_type": "code",
   "execution_count": 19,
   "id": "5013bd5c-ee0e-4292-a583-06bec95a721f",
   "metadata": {},
   "outputs": [
    {
     "data": {
      "text/plain": [
       "['hard rock', 1, 2, 3]"
      ]
     },
     "execution_count": 19,
     "metadata": {},
     "output_type": "execute_result"
    }
   ],
   "source": [
    "B=A[:]\n",
    "B"
   ]
  },
  {
   "cell_type": "code",
   "execution_count": 20,
   "id": "0d1c4429-4ca5-4e56-99c3-46052fa79125",
   "metadata": {},
   "outputs": [
    {
     "name": "stdout",
     "output_type": "stream",
     "text": [
      "B[0]: \n",
      " hard rock\n",
      "A[0]: \n",
      " banana\n",
      "B[0]: \n",
      " hard rock\n"
     ]
    }
   ],
   "source": [
    "print('B[0]: \\n', B[0])\n",
    "A[0]='banana'\n",
    "print('A[0]: \\n', A[0])\n",
    "print('B[0]: \\n', B[0])\n"
   ]
  },
  {
   "cell_type": "code",
   "execution_count": 21,
   "id": "1a9c1b54-335c-4524-bf93-68d2288de416",
   "metadata": {},
   "outputs": [
    {
     "data": {
      "text/plain": [
       "[1, 'hello', [1, 2, 3], 'true']"
      ]
     },
     "execution_count": 21,
     "metadata": {},
     "output_type": "execute_result"
    }
   ],
   "source": [
    "M=[1, 'hello', [1,2,3], 'true']\n",
    "M"
   ]
  },
  {
   "cell_type": "code",
   "execution_count": 22,
   "id": "b562c48c-2077-4cab-8396-e6e2581b1c57",
   "metadata": {},
   "outputs": [
    {
     "data": {
      "text/plain": [
       "'hello'"
      ]
     },
     "execution_count": 22,
     "metadata": {},
     "output_type": "execute_result"
    }
   ],
   "source": [
    "M[1]"
   ]
  },
  {
   "cell_type": "code",
   "execution_count": 23,
   "id": "4f5c2e93-6f45-4db5-8342-a8b44de09d63",
   "metadata": {},
   "outputs": [
    {
     "data": {
      "text/plain": [
       "['hello', [1, 2, 3], 'true']"
      ]
     },
     "execution_count": 23,
     "metadata": {},
     "output_type": "execute_result"
    }
   ],
   "source": [
    "M[1:4]"
   ]
  },
  {
   "cell_type": "code",
   "execution_count": 24,
   "id": "238d3ef9-1449-454e-b408-e5d1279bfc75",
   "metadata": {},
   "outputs": [
    {
     "data": {
      "text/plain": [
       "[1, 'a', 2, 1, 'd']"
      ]
     },
     "execution_count": 24,
     "metadata": {},
     "output_type": "execute_result"
    }
   ],
   "source": [
    "A=[1,'a']\n",
    "B=[2, 1, 'd']\n",
    "A+B\n"
   ]
  },
  {
   "cell_type": "code",
   "execution_count": 29,
   "id": "86bd6e3c-3b45-4390-a443-26149d7a3c63",
   "metadata": {},
   "outputs": [
    {
     "data": {
      "text/plain": [
       "['jaja', 'meso', 'mleko', 'brasno', 'banane', 'omeksivac']"
      ]
     },
     "execution_count": 29,
     "metadata": {},
     "output_type": "execute_result"
    }
   ],
   "source": [
    "Lista_za_kupovinu=['jaja', 'meso', 'mleko', 'brasno', 'banane']\n",
    "Lista_za_kupovinu.append('omeksivac')\n",
    "Lista_za_kupovinu\n"
   ]
  },
  {
   "cell_type": "code",
   "execution_count": 30,
   "id": "ab79cb97-962e-4ccb-82e0-9e9765f785a2",
   "metadata": {},
   "outputs": [],
   "source": [
    "del(Lista_za_kupovinu[0])"
   ]
  },
  {
   "cell_type": "code",
   "execution_count": 31,
   "id": "b96d910a-f252-4443-84c0-0c3caf1ed0a9",
   "metadata": {},
   "outputs": [
    {
     "data": {
      "text/plain": [
       "['meso', 'mleko', 'brasno', 'banane', 'omeksivac']"
      ]
     },
     "execution_count": 31,
     "metadata": {},
     "output_type": "execute_result"
    }
   ],
   "source": [
    "Lista_za_kupovinu\n"
   ]
  },
  {
   "cell_type": "code",
   "execution_count": 32,
   "id": "bfe91ff8-79f5-4252-83a5-abaa5a12e199",
   "metadata": {},
   "outputs": [
    {
     "data": {
      "text/plain": [
       "['meso', 'mleko', 'brasno', 'banane', 'omeksivac', 'borovnice']"
      ]
     },
     "execution_count": 32,
     "metadata": {},
     "output_type": "execute_result"
    }
   ],
   "source": [
    "Lista_za_kupovinu.append('borovnice')\n",
    "Lista_za_kupovinu"
   ]
  },
  {
   "cell_type": "code",
   "execution_count": 33,
   "id": "f6fab69b-d6bb-4c92-b50a-77c50d3ee728",
   "metadata": {},
   "outputs": [
    {
     "name": "stdout",
     "output_type": "stream",
     "text": [
      "meso\n"
     ]
    }
   ],
   "source": [
    "print(Lista_za_kupovinu[0])"
   ]
  },
  {
   "cell_type": "code",
   "execution_count": 34,
   "id": "8f686c2c-1138-4065-9326-54280f9e2e83",
   "metadata": {},
   "outputs": [
    {
     "data": {
      "text/plain": [
       "6"
      ]
     },
     "execution_count": 34,
     "metadata": {},
     "output_type": "execute_result"
    }
   ],
   "source": [
    "len(Lista_za_kupovinu)"
   ]
  },
  {
   "cell_type": "code",
   "execution_count": 36,
   "id": "72d68586-179b-43ef-847d-8d94b8129191",
   "metadata": {},
   "outputs": [
    {
     "name": "stdout",
     "output_type": "stream",
     "text": [
      "borovnice\n"
     ]
    }
   ],
   "source": [
    "print(Lista_za_kupovinu[-1])"
   ]
  },
  {
   "cell_type": "code",
   "execution_count": 38,
   "id": "c3fe4b12-65d9-4606-bd70-20945b339912",
   "metadata": {},
   "outputs": [
    {
     "name": "stdout",
     "output_type": "stream",
     "text": [
      "['mleko', 'brasno', 'banane']\n"
     ]
    }
   ],
   "source": [
    "print(Lista_za_kupovinu[1:4])"
   ]
  },
  {
   "cell_type": "code",
   "execution_count": 39,
   "id": "62d958dd-6d7e-4dcf-8481-78b2dff9de10",
   "metadata": {},
   "outputs": [
    {
     "data": {
      "text/plain": [
       "['Piletina', 'mleko', 'brasno', 'banane', 'omeksivac', 'borovnice']"
      ]
     },
     "execution_count": 39,
     "metadata": {},
     "output_type": "execute_result"
    }
   ],
   "source": [
    "Lista_za_kupovinu[0]='Piletina'\n",
    "Lista_za_kupovinu"
   ]
  },
  {
   "cell_type": "code",
   "execution_count": 40,
   "id": "e26ba66a-8680-4376-bc8f-0647cad3e9db",
   "metadata": {},
   "outputs": [],
   "source": [
    "del(Lista_za_kupovinu[1])"
   ]
  },
  {
   "cell_type": "code",
   "execution_count": 41,
   "id": "f4d6b170-9664-41c9-9ca5-a31435199e79",
   "metadata": {},
   "outputs": [
    {
     "data": {
      "text/plain": [
       "['Piletina', 'brasno', 'banane', 'omeksivac', 'borovnice']"
      ]
     },
     "execution_count": 41,
     "metadata": {},
     "output_type": "execute_result"
    }
   ],
   "source": [
    "Lista_za_kupovinu"
   ]
  },
  {
   "cell_type": "code",
   "execution_count": null,
   "id": "cd3376f5-e8f0-4f1f-8d96-51829f76324b",
   "metadata": {},
   "outputs": [],
   "source": []
  }
 ],
 "metadata": {
  "kernelspec": {
   "display_name": "Python [conda env:base] *",
   "language": "python",
   "name": "conda-base-py"
  },
  "language_info": {
   "codemirror_mode": {
    "name": "ipython",
    "version": 3
   },
   "file_extension": ".py",
   "mimetype": "text/x-python",
   "name": "python",
   "nbconvert_exporter": "python",
   "pygments_lexer": "ipython3",
   "version": "3.12.7"
  }
 },
 "nbformat": 4,
 "nbformat_minor": 5
}
