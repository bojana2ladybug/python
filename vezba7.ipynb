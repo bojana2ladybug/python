{
 "cells": [
  {
   "cell_type": "code",
   "execution_count": 1,
   "id": "11af72b7-ea20-42f0-9b4f-718331278f6b",
   "metadata": {},
   "outputs": [
    {
     "data": {
      "text/plain": [
       "False"
      ]
     },
     "execution_count": 1,
     "metadata": {},
     "output_type": "execute_result"
    }
   ],
   "source": [
    "a=5\n",
    "a==6"
   ]
  },
  {
   "cell_type": "code",
   "execution_count": 2,
   "id": "9c9a0395-68c6-41e1-a468-ed995f7cabbd",
   "metadata": {},
   "outputs": [
    {
     "data": {
      "text/plain": [
       "False"
      ]
     },
     "execution_count": 2,
     "metadata": {},
     "output_type": "execute_result"
    }
   ],
   "source": [
    "a>7"
   ]
  },
  {
   "cell_type": "code",
   "execution_count": 3,
   "id": "9d5e680a-e4dd-41fb-9d1d-3889949a9344",
   "metadata": {},
   "outputs": [
    {
     "data": {
      "text/plain": [
       "True"
      ]
     },
     "execution_count": 3,
     "metadata": {},
     "output_type": "execute_result"
    }
   ],
   "source": [
    "a<7"
   ]
  },
  {
   "cell_type": "code",
   "execution_count": 4,
   "id": "19be8f53-77a3-4978-9de9-3c0b829f8164",
   "metadata": {},
   "outputs": [
    {
     "data": {
      "text/plain": [
       "True"
      ]
     },
     "execution_count": 4,
     "metadata": {},
     "output_type": "execute_result"
    }
   ],
   "source": [
    "a<=5"
   ]
  },
  {
   "cell_type": "code",
   "execution_count": 5,
   "id": "2c4b21dc-a4ff-4528-8f1f-813a404af45a",
   "metadata": {},
   "outputs": [
    {
     "data": {
      "text/plain": [
       "True"
      ]
     },
     "execution_count": 5,
     "metadata": {},
     "output_type": "execute_result"
    }
   ],
   "source": [
    "a!=8"
   ]
  },
  {
   "cell_type": "code",
   "execution_count": 2,
   "id": "38abece0-da1c-4ca7-b32c-68d26fbac21e",
   "metadata": {},
   "outputs": [
    {
     "name": "stdout",
     "output_type": "stream",
     "text": [
      "ne moze da udje\n"
     ]
    }
   ],
   "source": [
    "age=17\n",
    "if age>18: print('moze da udje')\n",
    "else: print('ne moze da udje')"
   ]
  },
  {
   "cell_type": "code",
   "execution_count": 3,
   "id": "c427d72b-4f41-4f42-a6a0-325da0ec7a67",
   "metadata": {},
   "outputs": [
    {
     "name": "stdout",
     "output_type": "stream",
     "text": [
      "zabranjen ulaz\n"
     ]
    }
   ],
   "source": [
    "if age!=17: print('slobodan ulaz')\n",
    "else: print('zabranjen ulaz')"
   ]
  },
  {
   "cell_type": "code",
   "execution_count": 5,
   "id": "5e6b6591-a0bc-4c8d-8105-44fbf5946077",
   "metadata": {},
   "outputs": [
    {
     "name": "stdout",
     "output_type": "stream",
     "text": [
      "hajde mozes i ti\n"
     ]
    }
   ],
   "source": [
    "if age>17: print('moze da udje')\n",
    "elif age==17: print('hajde mozes i ti')\n",
    "else: print('zabranje ulaz')"
   ]
  },
  {
   "cell_type": "code",
   "execution_count": 6,
   "id": "de73d68d-0409-4235-838b-c6cc858acb6f",
   "metadata": {},
   "outputs": [
    {
     "name": "stdout",
     "output_type": "stream",
     "text": [
      "ulaz dozvoljen\n"
     ]
    }
   ],
   "source": [
    "if age>15 and age<20: print('ulaz dozvoljen')\n",
    "else: print('ulaz nije dozvoljen')"
   ]
  },
  {
   "cell_type": "code",
   "execution_count": 7,
   "id": "5efe2e41-2c8f-4b9d-9039-139a7e182804",
   "metadata": {},
   "outputs": [
    {
     "data": {
      "text/plain": [
       "range(0, 3)"
      ]
     },
     "execution_count": 7,
     "metadata": {},
     "output_type": "execute_result"
    }
   ],
   "source": [
    "range(3)"
   ]
  },
  {
   "cell_type": "code",
   "execution_count": 8,
   "id": "4d1567a8-f820-417b-9384-cf86626961be",
   "metadata": {},
   "outputs": [],
   "source": [
    "dates=[1998, 1999, 1997]\n",
    "N=len(dates)"
   ]
  },
  {
   "cell_type": "code",
   "execution_count": 9,
   "id": "29019f19-b8c6-4d53-b281-8992b4f47dcf",
   "metadata": {},
   "outputs": [
    {
     "data": {
      "text/plain": [
       "3"
      ]
     },
     "execution_count": 9,
     "metadata": {},
     "output_type": "execute_result"
    }
   ],
   "source": [
    "N"
   ]
  },
  {
   "cell_type": "code",
   "execution_count": 10,
   "id": "5af291fa-7f81-40c8-9618-9efd807e8af0",
   "metadata": {},
   "outputs": [
    {
     "name": "stdout",
     "output_type": "stream",
     "text": [
      "1998\n",
      "1999\n",
      "1997\n"
     ]
    }
   ],
   "source": [
    "for i in range(N):\n",
    "    print(dates[i])\n"
   ]
  },
  {
   "cell_type": "code",
   "execution_count": 13,
   "id": "a0f122a0-708f-407b-bc1f-bf95dd4a47e7",
   "metadata": {},
   "outputs": [
    {
     "name": "stdout",
     "output_type": "stream",
     "text": [
      "0\n",
      "1\n",
      "2\n",
      "3\n",
      "4\n",
      "5\n",
      "6\n",
      "7\n"
     ]
    }
   ],
   "source": [
    "for i in range(0,8):\n",
    "    print(i)"
   ]
  },
  {
   "cell_type": "code",
   "execution_count": 18,
   "id": "347437c6-0cfb-4f06-928a-88ed74430a89",
   "metadata": {},
   "outputs": [
    {
     "name": "stdout",
     "output_type": "stream",
     "text": [
      "1982\n",
      "It took 1 repetitions to get out of the loop\n",
      "1980\n",
      "It took 2 repetitions to get out of the loop\n"
     ]
    }
   ],
   "source": [
    "dates=[1982,1980,1973,2000]\n",
    "i=0\n",
    "year=dates[0]\n",
    "while(year!=1973):\n",
    "    print(year)\n",
    "    i=i+1\n",
    "    year=dates[i]\n",
    "\n",
    "    print('It took',i,'repetitions to get out of the loop')"
   ]
  },
  {
   "cell_type": "code",
   "execution_count": 8,
   "id": "ca9aca98-a625-43ff-a5ad-772f4e250cd7",
   "metadata": {},
   "outputs": [],
   "source": [
    "def add(a):\n",
    "    \"\"\"Osnovna funkcija\"\"\"\n",
    "    b=a+1\n",
    "    print(a,'if you add 1',b)\n",
    "    return(b)"
   ]
  },
  {
   "cell_type": "code",
   "execution_count": 9,
   "id": "d191eb39-ca47-498c-9b9b-5de09ef905f9",
   "metadata": {},
   "outputs": [
    {
     "name": "stdout",
     "output_type": "stream",
     "text": [
      "1 if you add 1 2\n"
     ]
    },
    {
     "data": {
      "text/plain": [
       "2"
      ]
     },
     "execution_count": 9,
     "metadata": {},
     "output_type": "execute_result"
    }
   ],
   "source": [
    "add(1)"
   ]
  },
  {
   "cell_type": "code",
   "execution_count": 10,
   "id": "205ba3e6-2a4d-43f6-8c9c-741624221436",
   "metadata": {},
   "outputs": [
    {
     "name": "stdout",
     "output_type": "stream",
     "text": [
      "528 if you add 1 529\n"
     ]
    },
    {
     "data": {
      "text/plain": [
       "529"
      ]
     },
     "execution_count": 10,
     "metadata": {},
     "output_type": "execute_result"
    }
   ],
   "source": [
    "add(528)"
   ]
  },
  {
   "cell_type": "code",
   "execution_count": 12,
   "id": "b143f2bc-ae4d-45bc-885c-212796f0d824",
   "metadata": {},
   "outputs": [],
   "source": [
    "def Mult(a,b):\n",
    "    c=a*b\n",
    "    print(a,b,'Proizvod ova dva broja',c)\n",
    "    return(c)\n",
    "\n",
    "\n",
    "    "
   ]
  },
  {
   "cell_type": "code",
   "execution_count": 13,
   "id": "e643df61-3d76-4c69-8d2c-721ecf2dcf9c",
   "metadata": {},
   "outputs": [
    {
     "name": "stdout",
     "output_type": "stream",
     "text": [
      "5 4 Proizvod ova dva broja 20\n"
     ]
    }
   ],
   "source": [
    "proizvod=Mult(5,4)"
   ]
  },
  {
   "cell_type": "code",
   "execution_count": 14,
   "id": "6380a5cf-ec9d-41d0-9af2-d64ccc50ba75",
   "metadata": {},
   "outputs": [
    {
     "name": "stdout",
     "output_type": "stream",
     "text": [
      "20\n"
     ]
    }
   ],
   "source": [
    "print(proizvod)"
   ]
  },
  {
   "cell_type": "code",
   "execution_count": 17,
   "id": "aedf5cff-d2a3-43be-9433-c9888b75ea12",
   "metadata": {},
   "outputs": [],
   "source": [
    "def square(a):\n",
    "    b=1\n",
    "    c=a*a+b\n",
    "    print(a,'if you square+1',c)\n",
    "    return(c)\n"
   ]
  },
  {
   "cell_type": "code",
   "execution_count": 18,
   "id": "66bf5b4c-a7a7-4798-867e-175d8524a685",
   "metadata": {},
   "outputs": [
    {
     "name": "stdout",
     "output_type": "stream",
     "text": [
      "2 if you square+1 5\n"
     ]
    }
   ],
   "source": [
    "x=square(2)"
   ]
  },
  {
   "cell_type": "code",
   "execution_count": 19,
   "id": "b3ec86e7-a8a4-4d96-9396-f57e5bbb8663",
   "metadata": {},
   "outputs": [
    {
     "name": "stdout",
     "output_type": "stream",
     "text": [
      "5 if you square+1 26\n"
     ]
    },
    {
     "data": {
      "text/plain": [
       "26"
      ]
     },
     "execution_count": 19,
     "metadata": {},
     "output_type": "execute_result"
    }
   ],
   "source": [
    "square(5)"
   ]
  },
  {
   "cell_type": "code",
   "execution_count": 21,
   "id": "4f61ead3-ca3e-4054-b609-4cadad07b418",
   "metadata": {},
   "outputs": [],
   "source": [
    "def MJ():\n",
    "    print('The BodyGuared')\n",
    "    "
   ]
  },
  {
   "cell_type": "code",
   "execution_count": 23,
   "id": "be6cad50-aeba-4ec0-8514-ecb557e4c38a",
   "metadata": {},
   "outputs": [],
   "source": [
    "def MJ1():\n",
    "    print('The BodyGuard')\n",
    "    return(None)"
   ]
  },
  {
   "cell_type": "code",
   "execution_count": 24,
   "id": "e842006a-edbe-4ba9-abc8-c43f2d99f26b",
   "metadata": {},
   "outputs": [
    {
     "name": "stdout",
     "output_type": "stream",
     "text": [
      "The BodyGuared\n"
     ]
    }
   ],
   "source": [
    "MJ()"
   ]
  },
  {
   "cell_type": "code",
   "execution_count": 25,
   "id": "2c766c8b-06a8-4a77-a605-8f2876f4a52f",
   "metadata": {},
   "outputs": [
    {
     "name": "stdout",
     "output_type": "stream",
     "text": [
      "The BodyGuard\n"
     ]
    }
   ],
   "source": [
    "MJ1()"
   ]
  },
  {
   "cell_type": "code",
   "execution_count": 26,
   "id": "a4afff69-3771-44e1-a74f-3517322a2b90",
   "metadata": {},
   "outputs": [],
   "source": [
    "def con(a,b):\n",
    "    return(a+b)"
   ]
  },
  {
   "cell_type": "code",
   "execution_count": 29,
   "id": "f2502c03-7f9a-4dfc-a5d0-cf62cfc41cd9",
   "metadata": {},
   "outputs": [
    {
     "data": {
      "text/plain": [
       "'This is'"
      ]
     },
     "execution_count": 29,
     "metadata": {},
     "output_type": "execute_result"
    }
   ],
   "source": [
    "con('This ','is')"
   ]
  },
  {
   "cell_type": "code",
   "execution_count": 30,
   "id": "229fd6a4-24be-497d-8ded-4b6e1b9a5953",
   "metadata": {},
   "outputs": [
    {
     "data": {
      "text/plain": [
       "'Bojana Markovic'"
      ]
     },
     "execution_count": 30,
     "metadata": {},
     "output_type": "execute_result"
    }
   ],
   "source": [
    "con('Bojana ','Markovic')"
   ]
  },
  {
   "cell_type": "code",
   "execution_count": 34,
   "id": "8178a9be-c320-4c7d-9107-d5f798b342c6",
   "metadata": {},
   "outputs": [
    {
     "data": {
      "text/plain": [
       "'veliki broj'"
      ]
     },
     "execution_count": 34,
     "metadata": {},
     "output_type": "execute_result"
    }
   ],
   "source": [
    "a=4\n",
    "b=5\n",
    "c=a+b*a\n",
    "if(c>10):\n",
    "    c='veliki broj'\n",
    "else:\n",
    "    c='mali broj'\n",
    "c\n"
   ]
  },
  {
   "cell_type": "code",
   "execution_count": 45,
   "id": "d6ebeb2c-3ed2-4553-bf63-b5b5346b3c7b",
   "metadata": {},
   "outputs": [
    {
     "name": "stdout",
     "output_type": "stream",
     "text": [
      "0\n"
     ]
    }
   ],
   "source": [
    "a1=0\n",
    "b1=0\n",
    "c1=a1+b1+2*a1*b1-1\n",
    "if(c1 < 0):\n",
    "    c1=0\n",
    "else:\n",
    "    c1=5\n",
    "print(c1)"
   ]
  },
  {
   "cell_type": "code",
   "execution_count": 46,
   "id": "44655117-1ef4-47b2-9468-3895bacecfac",
   "metadata": {},
   "outputs": [],
   "source": [
    "def Equation(a,b):\n",
    "    c=a+b+2*a*b-1\n",
    "    if(c<0):\n",
    "        c=0\n",
    "    else:\n",
    "        c=5\n",
    "        return(c)"
   ]
  },
  {
   "cell_type": "code",
   "execution_count": 49,
   "id": "2a998fe7-d401-4c84-a361-7182fe4d9af6",
   "metadata": {},
   "outputs": [
    {
     "data": {
      "text/plain": [
       "5"
      ]
     },
     "execution_count": 49,
     "metadata": {},
     "output_type": "execute_result"
    }
   ],
   "source": [
    "a1=5\n",
    "b1=5\n",
    "c1=Equation(a1,b1)\n",
    "c1"
   ]
  },
  {
   "cell_type": "code",
   "execution_count": 51,
   "id": "a16671e3-f0d1-4174-ab74-63c479c8cebf",
   "metadata": {},
   "outputs": [
    {
     "name": "stdout",
     "output_type": "stream",
     "text": [
      "[9.0, 8.6, 5.4, 2.1, 10.0]\n"
     ]
    },
    {
     "data": {
      "text/plain": [
       "35.1"
      ]
     },
     "execution_count": 51,
     "metadata": {},
     "output_type": "execute_result"
    }
   ],
   "source": [
    "album_recenzije=[9.0,8.6,5.4,2.1,10.0]\n",
    "print(album_recenzije)\n",
    "sumirano=sum(album_recenzije)\n",
    "sumirano"
   ]
  },
  {
   "cell_type": "code",
   "execution_count": 52,
   "id": "3fb1d9bd-7ecd-43c2-8cdf-1f34a8cf7cb0",
   "metadata": {},
   "outputs": [
    {
     "data": {
      "text/plain": [
       "5"
      ]
     },
     "execution_count": 52,
     "metadata": {},
     "output_type": "execute_result"
    }
   ],
   "source": [
    "len(album_recenzije)"
   ]
  },
  {
   "cell_type": "code",
   "execution_count": 55,
   "id": "a6652802-25a6-477e-a65c-07f88868b932",
   "metadata": {},
   "outputs": [
    {
     "data": {
      "text/plain": [
       "3"
      ]
     },
     "execution_count": 55,
     "metadata": {},
     "output_type": "execute_result"
    }
   ],
   "source": [
    "a=(1,2)\n",
    "sum(a)"
   ]
  },
  {
   "cell_type": "code",
   "execution_count": 59,
   "id": "95f078b1-1689-44bc-b7fc-0ba1adaf4007",
   "metadata": {},
   "outputs": [
    {
     "name": "stdout",
     "output_type": "stream",
     "text": [
      "Suma elemenata (1, 2): 3\n"
     ]
    }
   ],
   "source": [
    "print(f'Suma elemenata {a}:', sum(a))"
   ]
  },
  {
   "cell_type": "code",
   "execution_count": 63,
   "id": "4bb4fd42-b117-48d1-88b9-4286fc2da434",
   "metadata": {},
   "outputs": [
    {
     "name": "stdout",
     "output_type": "stream",
     "text": [
      "Thriller 1980\n",
      "Old\n"
     ]
    }
   ],
   "source": [
    "def type_of_album (album, year_release):\n",
    "    print(album, year_release)\n",
    "    if year_release > 1980:\n",
    "        return 'Modern'\n",
    "    else:\n",
    "        return 'Old'\n",
    "\n",
    "x=type_of_album('Thriller',1980)\n",
    "print(x)\n"
   ]
  },
  {
   "cell_type": "code",
   "execution_count": 64,
   "id": "eaa3047a-8b0a-4cee-b749-dd2f05085771",
   "metadata": {},
   "outputs": [],
   "source": [
    "def PrintList(the_list):\n",
    "    for element in the_list:\n",
    "        print(element)\n",
    "        "
   ]
  },
  {
   "cell_type": "code",
   "execution_count": 65,
   "id": "10ab420c-fb39-420a-8125-7d535a69b4e0",
   "metadata": {},
   "outputs": [
    {
     "name": "stdout",
     "output_type": "stream",
     "text": [
      "1\n",
      "1\n",
      "abc\n",
      "34\n"
     ]
    }
   ],
   "source": [
    "PrintList(['1',1,'abc',34])"
   ]
  },
  {
   "cell_type": "code",
   "execution_count": 68,
   "id": "68254ecc-e28b-4552-8a71-b80bf81d8cdd",
   "metadata": {},
   "outputs": [
    {
     "data": {
      "text/plain": [
       "'String matched'"
      ]
     },
     "execution_count": 68,
     "metadata": {},
     "output_type": "execute_result"
    }
   ],
   "source": [
    "string='The BodyGuard is the best album'\n",
    "def check_string(text):\n",
    "    if text in string:\n",
    "        return 'String matched'\n",
    "    else:\n",
    "        return 'String not matched'\n",
    "check_string(string)  "
   ]
  },
  {
   "cell_type": "code",
   "execution_count": 69,
   "id": "eeee1b2a-64de-46e0-819a-7c34c79721ec",
   "metadata": {},
   "outputs": [],
   "source": [
    "def compareStrings(x,y):\n",
    "    if x==y:\n",
    "        return 1"
   ]
  },
  {
   "cell_type": "code",
   "execution_count": 71,
   "id": "dbd4b768-27b6-4c11-8404-b3bd64294d10",
   "metadata": {},
   "outputs": [
    {
     "name": "stdout",
     "output_type": "stream",
     "text": [
      "\n",
      " String matched\n"
     ]
    }
   ],
   "source": [
    "string1='The BodyGuard is the best album'\n",
    "string2='The BodyGuard is the best album'\n",
    "check=compareStrings(string1,string2)\n",
    "\n",
    "if check==1:\n",
    "    print('\\n String matched')\n",
    "else:\n",
    "    print('\\n String not matched')"
   ]
  },
  {
   "cell_type": "code",
   "execution_count": 75,
   "id": "cb9c3e1e-fba7-4ce3-a352-e4cc71137e2b",
   "metadata": {},
   "outputs": [
    {
     "name": "stdout",
     "output_type": "stream",
     "text": [
      "The frequency of words is: {'Mary': 6, 'had': 2, 'a': 2, 'little': 3, 'lamb': 3, 'Little': 1, 'lamb,': 1, 'lamb.Its': 1, 'fleece': 1, 'was': 2, 'white': 1, 'as': 1, 'snow': 1, 'And': 1, 'everywhere': 1, 'that': 2, 'went': 3, 'went,': 1, 'Everywhere': 1, 'The': 1, 'sure': 1, 'to': 1, 'go': 1}\n"
     ]
    }
   ],
   "source": [
    "def freq(string):\n",
    "    words=[]\n",
    "    words=string.split()\n",
    "    Dict={}\n",
    "    for key in words:\n",
    "        Dict[key]=words.count(key)\n",
    "    print('The frequency of words is:',Dict)\n",
    "\n",
    "freq(\"Mary had a little lamb Little lamb, little lamb Mary had a little lamb.Its fleece was white as snow And everywhere that Mary went Mary went, Mary went \\\n",
    "Everywhere that Mary went The lamb was sure to go\")\n"
   ]
  },
  {
   "cell_type": "code",
   "execution_count": 76,
   "id": "157f2f6a-d578-49ea-aa69-50a74b8d0af2",
   "metadata": {},
   "outputs": [
    {
     "name": "stdout",
     "output_type": "stream",
     "text": [
      "No of arguments: 3\n",
      "Horsefeather\n",
      "Adonis\n",
      "Bone\n",
      "No of arguments: 4\n",
      "Sidecar\n",
      "Long Island\n",
      "Mudslide\n",
      "Carriage\n"
     ]
    }
   ],
   "source": [
    "def printAll(*args):\n",
    "    print(\"No of arguments:\", len(args)) \n",
    "    for argument in args:\n",
    "        print(argument)\n",
    "\n",
    "printAll('Horsefeather','Adonis','Bone')\n",
    "printAll('Sidecar','Long Island','Mudslide','Carriage')"
   ]
  },
  {
   "cell_type": "code",
   "execution_count": 77,
   "id": "ab912aad-ec4a-40a1-a069-f14d653c6174",
   "metadata": {},
   "outputs": [
    {
     "name": "stdout",
     "output_type": "stream",
     "text": [
      "Country : Canada\n",
      "Province : Ontario\n",
      "City : Toronto\n"
     ]
    }
   ],
   "source": [
    "def printDictionary(**args):\n",
    "    for key in args:\n",
    "        print(key + \" : \" + args[key])\n",
    "\n",
    "printDictionary(Country='Canada',Province='Ontario',City='Toronto')"
   ]
  },
  {
   "cell_type": "code",
   "execution_count": null,
   "id": "84c75fcb-8290-40e2-8840-747f2eafb7d6",
   "metadata": {},
   "outputs": [],
   "source": []
  }
 ],
 "metadata": {
  "kernelspec": {
   "display_name": "Python [conda env:base] *",
   "language": "python",
   "name": "conda-base-py"
  },
  "language_info": {
   "codemirror_mode": {
    "name": "ipython",
    "version": 3
   },
   "file_extension": ".py",
   "mimetype": "text/x-python",
   "name": "python",
   "nbconvert_exporter": "python",
   "pygments_lexer": "ipython3",
   "version": "3.12.7"
  }
 },
 "nbformat": 4,
 "nbformat_minor": 5
}
