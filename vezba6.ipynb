{
 "cells": [
  {
   "cell_type": "code",
   "execution_count": 4,
   "id": "df9105f6-5aa0-4e14-be82-31899d9f8b41",
   "metadata": {},
   "outputs": [
    {
     "data": {
      "text/plain": [
       "('disco', 10, 1.2)"
      ]
     },
     "execution_count": 4,
     "metadata": {},
     "output_type": "execute_result"
    }
   ],
   "source": [
    "tuple1 = ('disco', 10, 1.2)\n",
    "tuple1"
   ]
  },
  {
   "cell_type": "code",
   "execution_count": 3,
   "id": "f01104d8-d2c4-4694-b09e-82750b20643b",
   "metadata": {},
   "outputs": [
    {
     "data": {
      "text/plain": [
       "tuple"
      ]
     },
     "execution_count": 3,
     "metadata": {},
     "output_type": "execute_result"
    }
   ],
   "source": [
    "type(tuple1)"
   ]
  },
  {
   "cell_type": "code",
   "execution_count": 5,
   "id": "ee730d7c-47c4-441a-9108-bed67cafa327",
   "metadata": {},
   "outputs": [
    {
     "name": "stdout",
     "output_type": "stream",
     "text": [
      "Prvi clan: \n",
      " disco\n"
     ]
    }
   ],
   "source": [
    "print('Prvi clan: \\n', tuple1[0])"
   ]
  },
  {
   "cell_type": "code",
   "execution_count": 6,
   "id": "5f067c3b-8933-4745-a48f-6c34c92ecda2",
   "metadata": {},
   "outputs": [
    {
     "name": "stdout",
     "output_type": "stream",
     "text": [
      "Poslednji clan: \n",
      " 1.2\n"
     ]
    }
   ],
   "source": [
    "print('Poslednji clan: \\n', tuple1[-1])"
   ]
  },
  {
   "cell_type": "code",
   "execution_count": 7,
   "id": "c26556a8-6e74-4023-8942-0e77f70195c4",
   "metadata": {},
   "outputs": [
    {
     "name": "stdout",
     "output_type": "stream",
     "text": [
      "<class 'str'>\n"
     ]
    }
   ],
   "source": [
    "print(type(tuple1[0]))"
   ]
  },
  {
   "cell_type": "code",
   "execution_count": 8,
   "id": "c51393b7-788d-41f2-8b0c-3a82eb8bb7d1",
   "metadata": {},
   "outputs": [
    {
     "data": {
      "text/plain": [
       "('disco', 10, 1.2, 'mango', 27, 3.2)"
      ]
     },
     "execution_count": 8,
     "metadata": {},
     "output_type": "execute_result"
    }
   ],
   "source": [
    "tuple2= tuple1+ ('mango', 27, 3.2)\n",
    "tuple2"
   ]
  },
  {
   "cell_type": "code",
   "execution_count": 9,
   "id": "cd421908-7585-4523-8e32-bafc165bddd7",
   "metadata": {},
   "outputs": [
    {
     "data": {
      "text/plain": [
       "(10, 1.2)"
      ]
     },
     "execution_count": 9,
     "metadata": {},
     "output_type": "execute_result"
    }
   ],
   "source": [
    "tuple2[1:3]"
   ]
  },
  {
   "cell_type": "code",
   "execution_count": 12,
   "id": "c05a2ecd-0b27-466b-af0b-1a32df3220cc",
   "metadata": {},
   "outputs": [
    {
     "data": {
      "text/plain": [
       "6"
      ]
     },
     "execution_count": 12,
     "metadata": {},
     "output_type": "execute_result"
    }
   ],
   "source": [
    "len(tuple2)"
   ]
  },
  {
   "cell_type": "code",
   "execution_count": 13,
   "id": "17d38106-3ee9-4e73-8846-4789a275e28b",
   "metadata": {},
   "outputs": [
    {
     "data": {
      "text/plain": [
       "9"
      ]
     },
     "execution_count": 13,
     "metadata": {},
     "output_type": "execute_result"
    }
   ],
   "source": [
    "Ratings=(0,9,6,5,10,8,9,6,2)\n",
    "len(Ratings)"
   ]
  },
  {
   "cell_type": "code",
   "execution_count": 15,
   "id": "79e02943-ee79-44a0-9ab1-ce3225da380f",
   "metadata": {},
   "outputs": [],
   "source": [
    "Ratings2=sorted(Ratings)"
   ]
  },
  {
   "cell_type": "code",
   "execution_count": 16,
   "id": "b675c04a-e03d-4b7e-b960-ccfe24e1771c",
   "metadata": {},
   "outputs": [
    {
     "data": {
      "text/plain": [
       "[0, 2, 5, 6, 6, 8, 9, 9, 10]"
      ]
     },
     "execution_count": 16,
     "metadata": {},
     "output_type": "execute_result"
    }
   ],
   "source": [
    "Ratings2"
   ]
  },
  {
   "cell_type": "code",
   "execution_count": 17,
   "id": "1c249a1e-61e0-40cd-ae9f-2af791a45361",
   "metadata": {},
   "outputs": [
    {
     "name": "stdout",
     "output_type": "stream",
     "text": [
      "('pop', 'rock')\n"
     ]
    }
   ],
   "source": [
    "NestedT=(1,2,('pop','rock'),(3,4),('disco',(1,2)))\n",
    "print(NestedT[2])"
   ]
  },
  {
   "cell_type": "code",
   "execution_count": 19,
   "id": "cf774b16-1998-4631-bd01-5b39da729cf8",
   "metadata": {},
   "outputs": [
    {
     "name": "stdout",
     "output_type": "stream",
     "text": [
      "pop\n"
     ]
    }
   ],
   "source": [
    "print(NestedT[2][0])"
   ]
  },
  {
   "cell_type": "code",
   "execution_count": 21,
   "id": "d48e392c-7267-450f-94b5-834e790e5b21",
   "metadata": {},
   "outputs": [
    {
     "data": {
      "text/plain": [
       "'r'"
      ]
     },
     "execution_count": 21,
     "metadata": {},
     "output_type": "execute_result"
    }
   ],
   "source": [
    "NestedT[2][1][0]"
   ]
  },
  {
   "cell_type": "code",
   "execution_count": 32,
   "id": "8db705ff-870b-4838-b493-9865c49c6135",
   "metadata": {},
   "outputs": [
    {
     "data": {
      "text/plain": [
       "{'key1': 1, 'key2': 'mama', 'key3': 2, 'key4': 'tata'}"
      ]
     },
     "execution_count": 32,
     "metadata": {},
     "output_type": "execute_result"
    }
   ],
   "source": [
    "Dict={'key1':1, 'key2': \"mama\", 'key3':2, 'key4': \"tata\"}\n",
    "Dict"
   ]
  },
  {
   "cell_type": "code",
   "execution_count": 24,
   "id": "e554b2f3-4c71-4bad-ab2a-a34176f19fa9",
   "metadata": {},
   "outputs": [
    {
     "data": {
      "text/plain": [
       "1"
      ]
     },
     "execution_count": 24,
     "metadata": {},
     "output_type": "execute_result"
    }
   ],
   "source": [
    "Dict['key1']"
   ]
  },
  {
   "cell_type": "code",
   "execution_count": 36,
   "id": "95b44cc2-5882-4fc9-aff7-77a60e34f08f",
   "metadata": {},
   "outputs": [
    {
     "data": {
      "text/plain": [
       "'mama'"
      ]
     },
     "execution_count": 36,
     "metadata": {},
     "output_type": "execute_result"
    }
   ],
   "source": [
    "Dict['key2']"
   ]
  },
  {
   "cell_type": "code",
   "execution_count": 37,
   "id": "cf360e13-ca4a-4826-aeae-0d10dec833d2",
   "metadata": {},
   "outputs": [
    {
     "data": {
      "text/plain": [
       "dict_values([1, 'mama', 2, 'tata'])"
      ]
     },
     "execution_count": 37,
     "metadata": {},
     "output_type": "execute_result"
    }
   ],
   "source": [
    "Dict.values()"
   ]
  },
  {
   "cell_type": "code",
   "execution_count": 38,
   "id": "da2e7448-dd30-4804-8f9a-848db4e07af2",
   "metadata": {},
   "outputs": [
    {
     "data": {
      "text/plain": [
       "dict_keys(['key1', 'key2', 'key3', 'key4'])"
      ]
     },
     "execution_count": 38,
     "metadata": {},
     "output_type": "execute_result"
    }
   ],
   "source": [
    "Dict.keys()"
   ]
  },
  {
   "cell_type": "code",
   "execution_count": 39,
   "id": "91a91a4d-9944-4de7-a323-36eef97a8ff6",
   "metadata": {},
   "outputs": [
    {
     "data": {
      "text/plain": [
       "False"
      ]
     },
     "execution_count": 39,
     "metadata": {},
     "output_type": "execute_result"
    }
   ],
   "source": [
    "\"mama\" in Dict"
   ]
  },
  {
   "cell_type": "code",
   "execution_count": 40,
   "id": "053e9bc3-e694-47c5-a7fe-ccd8a68b23d9",
   "metadata": {},
   "outputs": [
    {
     "data": {
      "text/plain": [
       "True"
      ]
     },
     "execution_count": 40,
     "metadata": {},
     "output_type": "execute_result"
    }
   ],
   "source": [
    "\"key3\" in Dict"
   ]
  },
  {
   "cell_type": "code",
   "execution_count": 41,
   "id": "4cd9598e-821e-43fa-b062-45fd9eaaac01",
   "metadata": {},
   "outputs": [
    {
     "data": {
      "text/plain": [
       "{'R&B', 'disco', 'hard rock', 'pop', 'rock', 'soul'}"
      ]
     },
     "execution_count": 41,
     "metadata": {},
     "output_type": "execute_result"
    }
   ],
   "source": [
    "set1={'pop','rock','soul','hard rock','rock','R&B','rock','disco'}\n",
    "set1"
   ]
  },
  {
   "cell_type": "code",
   "execution_count": 45,
   "id": "89211f25-8e91-4d8c-83c9-643fc72f7710",
   "metadata": {},
   "outputs": [
    {
     "data": {
      "text/plain": [
       "{'00:42:19',\n",
       " 10.0,\n",
       " 1982,\n",
       " '30-Nov-82',\n",
       " 46.0,\n",
       " 'Michael Jackson',\n",
       " None,\n",
       " 'Thriller',\n",
       " 'pop, rock, r&b'}"
      ]
     },
     "execution_count": 45,
     "metadata": {},
     "output_type": "execute_result"
    }
   ],
   "source": [
    "album_list=['Michael Jackson','Thriller',1982,'00:42:19', 'pop, rock, r&b',46.0, '30-Nov-82', None, 10.0]\n",
    "album_set=set(album_list)\n",
    "album_set"
   ]
  },
  {
   "cell_type": "code",
   "execution_count": 48,
   "id": "dda3c6a7-1121-49f8-9c93-c5e28f0909f9",
   "metadata": {},
   "outputs": [
    {
     "data": {
      "text/plain": [
       "{'disco',\n",
       " 'folk rock',\n",
       " 'hard rock',\n",
       " 'pop',\n",
       " 'progressive rock',\n",
       " 'r&b',\n",
       " 'rock',\n",
       " 'soft rock',\n",
       " 'soul'}"
      ]
     },
     "execution_count": 48,
     "metadata": {},
     "output_type": "execute_result"
    }
   ],
   "source": [
    "music_genres=set(['pop','pop','rock','folk rock','hard rock','soul',\\\n",
    "'progressive rock','soft rock','r&b','disco'])\n",
    "music_genres"
   ]
  },
  {
   "cell_type": "code",
   "execution_count": 50,
   "id": "3dd493ed-c601-43a2-b1d9-197822e7e490",
   "metadata": {},
   "outputs": [
    {
     "data": {
      "text/plain": [
       "{'AC/DC', 'Back to black', 'Thriller'}"
      ]
     },
     "execution_count": 50,
     "metadata": {},
     "output_type": "execute_result"
    }
   ],
   "source": [
    "A=set(['Thriller','AC/DC', 'Back to black'])\n",
    "A"
   ]
  },
  {
   "cell_type": "code",
   "execution_count": 51,
   "id": "fd46c88c-fac6-4572-bdf3-7296fa592a6e",
   "metadata": {},
   "outputs": [],
   "source": [
    "A.add('NSYNC')"
   ]
  },
  {
   "cell_type": "code",
   "execution_count": 52,
   "id": "85074689-7a2b-423e-bc8e-1cf2dd337b58",
   "metadata": {},
   "outputs": [
    {
     "data": {
      "text/plain": [
       "{'AC/DC', 'Back to black', 'NSYNC', 'Thriller'}"
      ]
     },
     "execution_count": 52,
     "metadata": {},
     "output_type": "execute_result"
    }
   ],
   "source": [
    "A"
   ]
  },
  {
   "cell_type": "code",
   "execution_count": 53,
   "id": "3025adef-2204-4f3b-aee8-e1970860eb53",
   "metadata": {},
   "outputs": [
    {
     "data": {
      "text/plain": [
       "{'AC/DC', 'Back to black', 'NSYNC', 'Thriller'}"
      ]
     },
     "execution_count": 53,
     "metadata": {},
     "output_type": "execute_result"
    }
   ],
   "source": [
    "A.add('NSYNC')\n",
    "A"
   ]
  },
  {
   "cell_type": "code",
   "execution_count": 54,
   "id": "3b58c0ac-2bf4-4880-981e-13017900469e",
   "metadata": {},
   "outputs": [],
   "source": [
    "A.remove('NSYNC')"
   ]
  },
  {
   "cell_type": "code",
   "execution_count": 55,
   "id": "f5773a89-e119-455b-b098-6e5cb0e3f83e",
   "metadata": {},
   "outputs": [
    {
     "data": {
      "text/plain": [
       "{'AC/DC', 'Back to black', 'Thriller'}"
      ]
     },
     "execution_count": 55,
     "metadata": {},
     "output_type": "execute_result"
    }
   ],
   "source": [
    "A"
   ]
  },
  {
   "cell_type": "code",
   "execution_count": 56,
   "id": "67b5e192-e6e2-47d1-8268-1f3688e8230d",
   "metadata": {},
   "outputs": [
    {
     "data": {
      "text/plain": [
       "True"
      ]
     },
     "execution_count": 56,
     "metadata": {},
     "output_type": "execute_result"
    }
   ],
   "source": [
    "'AC/DC' in A"
   ]
  },
  {
   "cell_type": "code",
   "execution_count": 57,
   "id": "03e2fe37-af6e-428b-9b80-b20ae3e5fb3d",
   "metadata": {},
   "outputs": [],
   "source": [
    "album1=set(['Thriller', 'AC/DC', 'Back in black'])\n",
    "album2=set(['AC/DC', 'Back in black', 'The dark side of Moon'])\n",
    "intersection=album1 & album2"
   ]
  },
  {
   "cell_type": "code",
   "execution_count": 58,
   "id": "fbfdf1ff-8140-482c-941a-7712f5a657f9",
   "metadata": {},
   "outputs": [
    {
     "data": {
      "text/plain": [
       "{'AC/DC', 'Back in black'}"
      ]
     },
     "execution_count": 58,
     "metadata": {},
     "output_type": "execute_result"
    }
   ],
   "source": [
    "intersection"
   ]
  },
  {
   "cell_type": "code",
   "execution_count": 59,
   "id": "8e4f26e1-1389-461b-82c4-62ae0cdc04ee",
   "metadata": {},
   "outputs": [
    {
     "data": {
      "text/plain": [
       "{'Thriller'}"
      ]
     },
     "execution_count": 59,
     "metadata": {},
     "output_type": "execute_result"
    }
   ],
   "source": [
    "album1.difference(album2)"
   ]
  },
  {
   "cell_type": "code",
   "execution_count": 60,
   "id": "532d3151-06cd-43e8-99b0-df43ffe9b201",
   "metadata": {},
   "outputs": [
    {
     "data": {
      "text/plain": [
       "{'The dark side of Moon'}"
      ]
     },
     "execution_count": 60,
     "metadata": {},
     "output_type": "execute_result"
    }
   ],
   "source": [
    "album2.difference(album1)"
   ]
  },
  {
   "cell_type": "code",
   "execution_count": 61,
   "id": "e2ade39d-801c-413f-aad7-b5d48cf3994d",
   "metadata": {},
   "outputs": [
    {
     "data": {
      "text/plain": [
       "{'AC/DC', 'Back in black', 'The dark side of Moon', 'Thriller'}"
      ]
     },
     "execution_count": 61,
     "metadata": {},
     "output_type": "execute_result"
    }
   ],
   "source": [
    "album1.union(album2)"
   ]
  },
  {
   "cell_type": "code",
   "execution_count": 62,
   "id": "74dcb0d3-97f6-4da9-80cb-bbd1c113c46e",
   "metadata": {},
   "outputs": [
    {
     "data": {
      "text/plain": [
       "False"
      ]
     },
     "execution_count": 62,
     "metadata": {},
     "output_type": "execute_result"
    }
   ],
   "source": [
    "set(album1).issuperset(album2)"
   ]
  },
  {
   "cell_type": "code",
   "execution_count": 64,
   "id": "a524c587-e0d9-447f-b628-76445a737575",
   "metadata": {},
   "outputs": [
    {
     "data": {
      "text/plain": [
       "False"
      ]
     },
     "execution_count": 64,
     "metadata": {},
     "output_type": "execute_result"
    }
   ],
   "source": [
    "set(album2).issubset(album1)"
   ]
  },
  {
   "cell_type": "code",
   "execution_count": null,
   "id": "1de65f37-0394-41a5-a5a7-0da7eec6dd3b",
   "metadata": {},
   "outputs": [],
   "source": []
  }
 ],
 "metadata": {
  "kernelspec": {
   "display_name": "Python [conda env:base] *",
   "language": "python",
   "name": "conda-base-py"
  },
  "language_info": {
   "codemirror_mode": {
    "name": "ipython",
    "version": 3
   },
   "file_extension": ".py",
   "mimetype": "text/x-python",
   "name": "python",
   "nbconvert_exporter": "python",
   "pygments_lexer": "ipython3",
   "version": "3.12.7"
  }
 },
 "nbformat": 4,
 "nbformat_minor": 5
}
